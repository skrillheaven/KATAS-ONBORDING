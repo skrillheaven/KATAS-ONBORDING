{
 "cells": [
  {
   "cell_type": "markdown",
   "metadata": {},
   "source": [
    "# Modulo 3\n",
    "\n",
    "\n",
    "--ejercicios de la documentacion // las practicas(KATAS) estan mas abajo"
   ]
  },
  {
   "cell_type": "code",
   "execution_count": 6,
   "metadata": {},
   "outputs": [
    {
     "name": "stdout",
     "output_type": "stream",
     "text": [
      "no ejecurare nada xd, a es mayor a b\n"
     ]
    }
   ],
   "source": [
    "a=97\n",
    "b=55\n",
    "\n",
    "\n",
    "if a<b:\n",
    "\n",
    " print(a)\n",
    "\n",
    "else :\n",
    "    print(\"no ejecurare nada xd, a es mayor a b\")"
   ]
  },
  {
   "cell_type": "code",
   "execution_count": 9,
   "metadata": {},
   "outputs": [
    {
     "name": "stdout",
     "output_type": "stream",
     "text": [
      "93 se imprime a por ser mayor a b 27\n"
     ]
    }
   ],
   "source": [
    "#practica 2 de la documentacion \n",
    "\n",
    "a=93 \n",
    "b=27\n",
    "if a>=b:\n",
    "    print  (str(a) + \" se imprime a por ser mayor a b \" + str(b))"
   ]
  },
  {
   "cell_type": "code",
   "execution_count": 10,
   "metadata": {},
   "outputs": [
    {
     "name": "stdout",
     "output_type": "stream",
     "text": [
      "44\n"
     ]
    }
   ],
   "source": [
    "a=24 \n",
    "b=44\n",
    "if a<=0:\n",
    "    print(a)\n",
    "print(b)"
   ]
  },
  {
   "cell_type": "markdown",
   "metadata": {},
   "source": [
    "elif nos permite usar un else con logica"
   ]
  },
  {
   "cell_type": "code",
   "execution_count": 17,
   "metadata": {},
   "outputs": [
    {
     "name": "stdout",
     "output_type": "stream",
     "text": [
      "soy el elif xd\n",
      "estoy dentro del elif , soy un if xd\n",
      "y yo soy un if que esta dentro del if que esta en el elif xdxd\n"
     ]
    }
   ],
   "source": [
    "a=93\n",
    "b=27\n",
    "if a==b:\n",
    "    print(\"a es mayor o igual que b\")\n",
    "    if a == 93:\n",
    "      print(\"soy otro if xd\")\n",
    "\n",
    "elif a==93:\n",
    "    print(\"soy el elif xd\")\n",
    "    if b==27:\n",
    "        print(\"estoy dentro del elif , soy un if xd\")\n",
    "        if b<a:\n",
    "            print(\"y yo soy un if que esta dentro del if que esta en el elif xdxd\")"
   ]
  },
  {
   "cell_type": "code",
   "execution_count": 23,
   "metadata": {},
   "outputs": [
    {
     "name": "stdout",
     "output_type": "stream",
     "text": [
      "57\n",
      "estas usando un 'or'\n"
     ]
    }
   ],
   "source": [
    "a = 23\n",
    "b = 34\n",
    "if a == 34 or b == 34:\n",
    "    print(str(a + b)+\"\\nestas usando un 'or'\")"
   ]
  },
  {
   "cell_type": "code",
   "execution_count": 24,
   "metadata": {},
   "outputs": [
    {
     "name": "stdout",
     "output_type": "stream",
     "text": [
      "57\n",
      "estas usando un 'and'\n"
     ]
    }
   ],
   "source": [
    "a = 23\n",
    "b = 34\n",
    "if b == 34 and a == 23:\n",
    "    print (str(a + b)+\"\\nestas usando un 'and'\")"
   ]
  },
  {
   "cell_type": "markdown",
   "metadata": {},
   "source": [
    "# AQUI INICIA EL KATA\n",
    "\n",
    "## Ejercicio - Escribir declaraciones `if`, `else`, y `elif`"
   ]
  },
  {
   "cell_type": "code",
   "execution_count": 26,
   "metadata": {},
   "outputs": [
    {
     "name": "stdout",
     "output_type": "stream",
     "text": [
      "Podre estar en la siguiente etapa :D\n"
     ]
    }
   ],
   "source": [
    "le_hecho_ganas=0\n",
    "\n",
    "if le_hecho_ganas ==0: #si se hecho ganas, estare en la siguiente etapa xd\n",
    "    print(\"Podre estar en la siguiente etapa :D\")"
   ]
  },
  {
   "cell_type": "markdown",
   "metadata": {},
   "source": [
    "EJERCICIO DE ADVERTENCIA DE ASTEROIDES\n",
    "\n",
    "Para este ejercicio, escribirás una lógica condicional que imprima una advertencia si un asteroide se acerca a la Tierra demasiado rápido. La velocidad del asteroide varía dependiendo de lo cerca que esté del sol, y cualquier velocidad superior a 25 kilómetros por segundo (km/s) merece una advertencia."
   ]
  },
  {
   "cell_type": "code",
   "execution_count": 30,
   "metadata": {},
   "outputs": [
    {
     "name": "stdout",
     "output_type": "stream",
     "text": [
      "ESCANEANDO....\n",
      "ASTEROIDE DETECTADO\n",
      "CORRAN Y GRITEN!!!!!!, POR QUE VAMOS A CHOCAR!!!!!!!!!!!!\n"
     ]
    }
   ],
   "source": [
    "peligro=25\n",
    "v_asteroide=0 #valor del ejercicio planteado 25\n",
    "print(\"ESCANEANDO....\")\n",
    "print(\"ASTEROIDE DETECTADO\")\n",
    "asteroide = input(\"Ingresa la velocidad el asteroide:\")\n",
    "\n",
    "if int(asteroide) >=peligro:\n",
    "    print(\"CORRAN Y GRITEN!!!!!!, POR QUE VAMOS A CHOCAR!!!!!!!!!!!!\")\n",
    "\n",
    "else:\n",
    "    print (\"Tranquilo , eso no nos hara ni cosquillas uwu\")"
   ]
  },
  {
   "cell_type": "markdown",
   "metadata": {},
   "source": [
    "Si un asteroide entra en la atmósfera de la Tierra a una velocidad mayor o igual a 20 km/s, a veces produce un rayo de luz que se puede ver desde la Tierra. Escribe la lógica condicional que usa declaraciones `if`, `else`, y `elif` para alertar a las personas de todo el mundo que deben buscar un asteroide en el cielo. ¡Hay uno que se dirige a la tierra ahora a una velocidad de 19 km/s!"
   ]
  },
  {
   "cell_type": "code",
   "execution_count": 35,
   "metadata": {},
   "outputs": [
    {
     "name": "stdout",
     "output_type": "stream",
     "text": [
      "HOLAAAAAAA\n",
      "¿Viste un asteroide?\n",
      "ENCONTRASTE UN ASTEROIDE!!!!!!! O.O\n",
      "DILE A TUS AMIGOS QUE EL ASTEROIDE SE PODRA VER!!!!!!!\n"
     ]
    }
   ],
   "source": [
    "luz=20\n",
    "v_asteroide=0\n",
    "ask=\"\"\n",
    "print (\"HOLAAAAAAA\")\n",
    "print(\"¿Viste un asteroide?\")\n",
    "ask=input(\"si / no\")\n",
    "\n",
    "if ask == \"si\":\n",
    "    print(\"ENCONTRASTE UN ASTEROIDE!!!!!!! O.O\")\n",
    "    asteroide = input(\"Ingresa la velocidad el asteroide:\")\n",
    "    if int(asteroide) >= 20:\n",
    "            print(\"DILE A TUS AMIGOS QUE EL ASTEROIDE SE PODRA VER!!!!!!!\")\n",
    "    else:\n",
    "      print (\"Lamento decirte que no podras ver el asteroide U.U\")\n",
    "\n",
    "else:\n",
    "    print(\"Respondiste que no, fui programado para ver \\nasteroides, no puedo ayudar, disculpa\")\n",
    "\n"
   ]
  },
  {
   "cell_type": "markdown",
   "metadata": {},
   "source": [
    "## USO DE OPERADORES AND Y OR"
   ]
  },
  {
   "cell_type": "code",
   "execution_count": 53,
   "metadata": {},
   "outputs": [
    {
     "name": "stdout",
     "output_type": "stream",
     "text": [
      "BIENVENIDO AL SISTEMA DE AVISOS COMPLEJO DE ASTEROIDES \n",
      "¡Me llamo UWU!!!, por favor ingresa los datos solicitados para ayudarte mejor:\n",
      "GRACIAS POR INGRESAR LOS DATOS\n",
      "PELIGRO, EL ASTEROIDE HARA MUCHO DAÑO!!!!!\n",
      "DILE A TUS AMIGOS QUE EL ASTEROIDE SE PODRA VER!!!!!!!\n",
      "No te hara nada el asteroide , tranquilo\n"
     ]
    }
   ],
   "source": [
    "ask1=0\n",
    "ask2=0\n",
    "ask3=0\n",
    "\n",
    "print(\"BIENVENIDO AL SISTEMA DE AVISOS COMPLEJO DE ASTEROIDES \\n¡Me llamo UWU!!!, por favor ingresa los datos solicitados para ayudarte mejor:\")\n",
    "ask1=int(input(\"Ingresa la dimension del asteroide \\n(max 1000mtrs ya que pasando eso no hay nada que hacer xd)\"))\n",
    "\n",
    "\n",
    "print(\"GRACIAS POR INGRESAR LOS DATOS\")\n",
    "\n",
    "if ask1 >=1000:\n",
    "        print(\"TE DIJE QUE MAYOR A 1000 ERA UNA CATASTROFE!!!! \\nAVANDONEN EL PLANETA!!!!!\")\n",
    "\n",
    "else:\n",
    "        ask2=int(input(\"Ingresa la velocidad de entrada a la atmosfera\"))\n",
    "        ask3=int(input(\"Ingresa la velocidad respecto al sol(luz)\"))\n",
    "        if ask1 >=25 and ask1 <1000:\n",
    "                print (\"PELIGRO, EL ASTEROIDE HARA MUCHO DAÑO!!!!!\")\n",
    "                if ask3 >= 20:\n",
    "                        print(\"DILE A TUS AMIGOS QUE EL ASTEROIDE SE PODRA VER!!!!!!!\")\n",
    "            \n",
    "                if ask2 >=25:\n",
    "                        print(\"CORRAN Y GRITEN!!!!!!, POR QUE VAMOS A CHOCAR!!!!!!!!!!!!\")\n",
    "\n",
    "                if ask3 < 20:\n",
    "                        print(\"Lamento decirte que no podras ver el asteroide U.U\")\n",
    "\n",
    "                if ask2 <25:\n",
    "                        print(\"No te hara nada el asteroide , tranquilo\")\n",
    "        elif ask1 < 25: \n",
    "                print(\"Este asteroide se va a quermar....\")\n",
    "\n",
    "                if ask3 >= 20:\n",
    "                        print(\"DILE A TUS AMIGOS QUE EL ASTEROIDE SE PODRA VER!!!!!!!\")\n",
    "            \n",
    "                if ask2 >=25:\n",
    "                    print(\"CORRAN Y GRITEN!!!!!!, POR QUE VAMOS A CHOCAR!!!!!!!!!!!!\")\n",
    "\n",
    "                if ask3 < 20:\n",
    "                         print(\"Lamento decirte que no podras ver el asteroide U.U\")\n",
    "\n",
    "                if ask2 <25:\n",
    "                        print(\"No te hara nada el asteroide , tranquilo\")\n",
    "\n",
    "        \n",
    "\n",
    "\n",
    "\n",
    "\n",
    "\n"
   ]
  }
 ],
 "metadata": {
  "interpreter": {
   "hash": "f500c8142be14955e4aa713b927e242e5a8c22ae8696407e12efb6dadcf5f629"
  },
  "kernelspec": {
   "display_name": "Python 3.10.2 64-bit (windows store)",
   "language": "python",
   "name": "python3"
  },
  "language_info": {
   "codemirror_mode": {
    "name": "ipython",
    "version": 3
   },
   "file_extension": ".py",
   "mimetype": "text/x-python",
   "name": "python",
   "nbconvert_exporter": "python",
   "pygments_lexer": "ipython3",
   "version": "3.10.2"
  },
  "orig_nbformat": 4
 },
 "nbformat": 4,
 "nbformat_minor": 2
}
